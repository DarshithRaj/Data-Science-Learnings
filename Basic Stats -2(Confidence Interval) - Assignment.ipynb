{
 "cells": [
  {
   "cell_type": "code",
   "execution_count": 3,
   "id": "b18f079d",
   "metadata": {},
   "outputs": [
    {
     "data": {
      "text/html": [
       "<div>\n",
       "<style scoped>\n",
       "    .dataframe tbody tr th:only-of-type {\n",
       "        vertical-align: middle;\n",
       "    }\n",
       "\n",
       "    .dataframe tbody tr th {\n",
       "        vertical-align: top;\n",
       "    }\n",
       "\n",
       "    .dataframe thead th {\n",
       "        text-align: right;\n",
       "    }\n",
       "</style>\n",
       "<table border=\"1\" class=\"dataframe\">\n",
       "  <thead>\n",
       "    <tr style=\"text-align: right;\">\n",
       "      <th></th>\n",
       "      <th>S.no</th>\n",
       "      <th>Print_head</th>\n",
       "    </tr>\n",
       "  </thead>\n",
       "  <tbody>\n",
       "    <tr>\n",
       "      <th>0</th>\n",
       "      <td>1</td>\n",
       "      <td>1.13</td>\n",
       "    </tr>\n",
       "    <tr>\n",
       "      <th>1</th>\n",
       "      <td>2</td>\n",
       "      <td>1.55</td>\n",
       "    </tr>\n",
       "    <tr>\n",
       "      <th>2</th>\n",
       "      <td>3</td>\n",
       "      <td>1.43</td>\n",
       "    </tr>\n",
       "    <tr>\n",
       "      <th>3</th>\n",
       "      <td>4</td>\n",
       "      <td>0.92</td>\n",
       "    </tr>\n",
       "    <tr>\n",
       "      <th>4</th>\n",
       "      <td>5</td>\n",
       "      <td>1.25</td>\n",
       "    </tr>\n",
       "    <tr>\n",
       "      <th>5</th>\n",
       "      <td>6</td>\n",
       "      <td>1.36</td>\n",
       "    </tr>\n",
       "    <tr>\n",
       "      <th>6</th>\n",
       "      <td>7</td>\n",
       "      <td>1.32</td>\n",
       "    </tr>\n",
       "    <tr>\n",
       "      <th>7</th>\n",
       "      <td>8</td>\n",
       "      <td>0.85</td>\n",
       "    </tr>\n",
       "    <tr>\n",
       "      <th>8</th>\n",
       "      <td>9</td>\n",
       "      <td>1.07</td>\n",
       "    </tr>\n",
       "    <tr>\n",
       "      <th>9</th>\n",
       "      <td>10</td>\n",
       "      <td>1.48</td>\n",
       "    </tr>\n",
       "    <tr>\n",
       "      <th>10</th>\n",
       "      <td>11</td>\n",
       "      <td>1.20</td>\n",
       "    </tr>\n",
       "    <tr>\n",
       "      <th>11</th>\n",
       "      <td>12</td>\n",
       "      <td>1.33</td>\n",
       "    </tr>\n",
       "    <tr>\n",
       "      <th>12</th>\n",
       "      <td>13</td>\n",
       "      <td>1.18</td>\n",
       "    </tr>\n",
       "    <tr>\n",
       "      <th>13</th>\n",
       "      <td>14</td>\n",
       "      <td>1.22</td>\n",
       "    </tr>\n",
       "    <tr>\n",
       "      <th>14</th>\n",
       "      <td>15</td>\n",
       "      <td>1.29</td>\n",
       "    </tr>\n",
       "  </tbody>\n",
       "</table>\n",
       "</div>"
      ],
      "text/plain": [
       "    S.no  Print_head\n",
       "0      1        1.13\n",
       "1      2        1.55\n",
       "2      3        1.43\n",
       "3      4        0.92\n",
       "4      5        1.25\n",
       "5      6        1.36\n",
       "6      7        1.32\n",
       "7      8        0.85\n",
       "8      9        1.07\n",
       "9     10        1.48\n",
       "10    11        1.20\n",
       "11    12        1.33\n",
       "12    13        1.18\n",
       "13    14        1.22\n",
       "14    15        1.29"
      ]
     },
     "execution_count": 3,
     "metadata": {},
     "output_type": "execute_result"
    }
   ],
   "source": [
    "import numpy as np\n",
    "import scipy.stats as stats\n",
    "import pandas as pd\n",
    "df = pd.read_csv(\"Print_heads.csv\")\n",
    "df"
   ]
  },
  {
   "cell_type": "code",
   "execution_count": 6,
   "id": "8e44a2b4",
   "metadata": {},
   "outputs": [
    {
     "data": {
      "text/plain": [
       "array([1.13, 1.55, 1.43, 0.92, 1.25, 1.36, 1.32, 0.85, 1.07, 1.48, 1.2 ,\n",
       "       1.33, 1.18, 1.22, 1.29])"
      ]
     },
     "execution_count": 6,
     "metadata": {},
     "output_type": "execute_result"
    }
   ],
   "source": [
    "data = np.array([1.13,1.55,1.43,0.92,1.25,1.36,1.32,0.85,1.07,1.48,1.20,1.33,1.18,1.22,1.29])\n",
    "data"
   ]
  },
  {
   "cell_type": "code",
   "execution_count": 7,
   "id": "885a27cd",
   "metadata": {},
   "outputs": [
    {
     "name": "stdout",
     "output_type": "stream",
     "text": [
      "Sample Mean: 1.2386666666666666\n",
      "Sample Standard deviation is: 0.18661427836285438\n"
     ]
    }
   ],
   "source": [
    "sample_mean = np.mean(data)\n",
    "sample_std_dev = np.std(data)\n",
    "n = len(data)\n",
    "df1 = n-1\n",
    "print(\"Sample Mean:\",sample_mean)\n",
    "print(\"Sample Standard deviation is:\",sample_std_dev)"
   ]
  },
  {
   "cell_type": "markdown",
   "id": "fa1c6794",
   "metadata": {},
   "source": [
    "# Section-A:Build 99% Confidence Interval Using Sample Standard Deviation"
   ]
  },
  {
   "cell_type": "code",
   "execution_count": 17,
   "id": "c06beb67",
   "metadata": {},
   "outputs": [
    {
     "name": "stdout",
     "output_type": "stream",
     "text": [
      "99% confidence interval for the mean number of characters printed before the print-head fails using the sample standard deviation: (0.7579801399989947, 1.7193531933343384)\n"
     ]
    }
   ],
   "source": [
    "from scipy.stats import norm\n",
    "#alpha = 1%\n",
    "ci_99 = norm.interval(0.99,loc=np.mean(data),scale = np.std(data))\n",
    "print(\"99% confidence interval for the mean number of characters printed before the print-head fails using the sample standard deviation:\",ci_99)"
   ]
  },
  {
   "cell_type": "markdown",
   "id": "b3a7e2b4",
   "metadata": {},
   "source": [
    "# T - Distribution:"
   ]
  },
  {
   "cell_type": "markdown",
   "id": "6ee35755",
   "metadata": {},
   "source": [
    "T - distributoin can be used only when the sample data size is less than 30."
   ]
  },
  {
   "cell_type": "code",
   "execution_count": 11,
   "id": "667b08e6",
   "metadata": {},
   "outputs": [
    {
     "data": {
      "text/plain": [
       "2.97684273411266"
      ]
     },
     "execution_count": 11,
     "metadata": {},
     "output_type": "execute_result"
    }
   ],
   "source": [
    "#t distribution for 99% confidence interval\n",
    "t_value = stats.t.ppf(0.995,df1)\n",
    "t_value"
   ]
  },
  {
   "cell_type": "code",
   "execution_count": 12,
   "id": "a8f386a6",
   "metadata": {},
   "outputs": [
    {
     "data": {
      "text/plain": [
       "0.14343499802810397"
      ]
     },
     "execution_count": 12,
     "metadata": {},
     "output_type": "execute_result"
    }
   ],
   "source": [
    "error_sample = t_value*(sample_std_dev / np.sqrt(n))\n",
    "error_sample"
   ]
  },
  {
   "cell_type": "markdown",
   "id": "3380440a",
   "metadata": {},
   "source": [
    "# Section-B:. Build 99% Confidence Interval Using Known Population Standard Deviation"
   ]
  },
  {
   "cell_type": "code",
   "execution_count": 13,
   "id": "dc8c5d0f",
   "metadata": {},
   "outputs": [],
   "source": [
    "population_std_dev = 0.2"
   ]
  },
  {
   "cell_type": "code",
   "execution_count": 14,
   "id": "2fb88bcd",
   "metadata": {},
   "outputs": [
    {
     "data": {
      "text/plain": [
       "2.5758293035489004"
      ]
     },
     "execution_count": 14,
     "metadata": {},
     "output_type": "execute_result"
    }
   ],
   "source": [
    "#z-value for 99% confidence interval\n",
    "z_value = stats.norm.ppf(0.995)\n",
    "z_value"
   ]
  },
  {
   "cell_type": "code",
   "execution_count": 15,
   "id": "17f040b0",
   "metadata": {},
   "outputs": [
    {
     "data": {
      "text/plain": [
       "0.13301525327090588"
      ]
     },
     "execution_count": 15,
     "metadata": {},
     "output_type": "execute_result"
    }
   ],
   "source": [
    "#Error using known population standard deviation\n",
    "error_population = z_value*(population_std_dev / np.sqrt(n))\n",
    "error_population"
   ]
  },
  {
   "cell_type": "code",
   "execution_count": 16,
   "id": "b06a4039",
   "metadata": {},
   "outputs": [
    {
     "name": "stdout",
     "output_type": "stream",
     "text": [
      "construct a 99% confidence interval for the mean number of characters printed before failure: (0.7235008059568865, 1.7538325273764466)\n"
     ]
    }
   ],
   "source": [
    "#alpha value 1%\n",
    "ci99 = norm.interval(0.99,loc = np.mean(data),scale=population_std_dev)\n",
    "ci99\n",
    "print(\"construct a 99% confidence interval for the mean number of characters printed before failure:\",ci99)"
   ]
  },
  {
   "cell_type": "code",
   "execution_count": null,
   "id": "c67443e4",
   "metadata": {},
   "outputs": [],
   "source": []
  }
 ],
 "metadata": {
  "kernelspec": {
   "display_name": "Python 3 (ipykernel)",
   "language": "python",
   "name": "python3"
  },
  "language_info": {
   "codemirror_mode": {
    "name": "ipython",
    "version": 3
   },
   "file_extension": ".py",
   "mimetype": "text/x-python",
   "name": "python",
   "nbconvert_exporter": "python",
   "pygments_lexer": "ipython3",
   "version": "3.11.7"
  }
 },
 "nbformat": 4,
 "nbformat_minor": 5
}
