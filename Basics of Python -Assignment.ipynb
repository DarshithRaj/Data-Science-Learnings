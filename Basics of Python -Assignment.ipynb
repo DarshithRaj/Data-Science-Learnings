{
 "cells": [
  {
   "cell_type": "markdown",
   "id": "e49437a8",
   "metadata": {},
   "source": [
    "# Exercise 1:"
   ]
  },
  {
   "cell_type": "markdown",
   "id": "94b0b70f",
   "metadata": {},
   "source": [
    "Prime Numbers:"
   ]
  },
  {
   "cell_type": "code",
   "execution_count": 2,
   "id": "530c6c63",
   "metadata": {},
   "outputs": [
    {
     "name": "stdout",
     "output_type": "stream",
     "text": [
      "Enter a number:11\n",
      "11 is a prime number.\n"
     ]
    }
   ],
   "source": [
    "def is_prime(num):\n",
    "    if num <= 1:\n",
    "        return False\n",
    "    for i in range(2,num):\n",
    "        if num % i == 0:\n",
    "            return False\n",
    "    return True\n",
    "a = int(input(\"Enter a number:\"))\n",
    "if is_prime(a):\n",
    "    print(a,\"is a prime number.\")\n",
    "else:\n",
    "    print(a,\"is not a prime number.\")"
   ]
  },
  {
   "cell_type": "code",
   "execution_count": 3,
   "id": "8bdca4d6",
   "metadata": {},
   "outputs": [
    {
     "name": "stdout",
     "output_type": "stream",
     "text": [
      "Enter a number:12\n",
      "12 is not a prime number.\n"
     ]
    }
   ],
   "source": [
    "def is_prime(num):\n",
    "    if num <= 1:\n",
    "        return False\n",
    "    for i in range(2,num):\n",
    "        if num % i == 0:\n",
    "            return False\n",
    "    return True\n",
    "a = int(input(\"Enter a number:\"))\n",
    "if is_prime(a):\n",
    "    print(a,\"is a prime number.\")\n",
    "else:\n",
    "    print(a,\"is not a prime number.\")"
   ]
  },
  {
   "cell_type": "markdown",
   "id": "d56ca876",
   "metadata": {},
   "source": [
    "# Exercise 2:"
   ]
  },
  {
   "cell_type": "markdown",
   "id": "0c0ecbb9",
   "metadata": {},
   "source": [
    "Product of Random numbers:"
   ]
  },
  {
   "cell_type": "code",
   "execution_count": 1,
   "id": "921209bb",
   "metadata": {},
   "outputs": [
    {
     "name": "stdout",
     "output_type": "stream",
     "text": [
      "7\n",
      "26\n",
      "What is the product of 7 and 26?\n",
      "Expected answer:145\n",
      "Nah!,Here you go:182\n"
     ]
    }
   ],
   "source": [
    "import random\n",
    "x = random.randint(1,30)\n",
    "y = random.randint(1,30)\n",
    "print(x)\n",
    "print(y)\n",
    "correct_answer = x * y\n",
    "print(f\"What is the product of {x} and {y}?\")\n",
    "user_input = int(input(\"Expected answer:\"))\n",
    "if user_input == correct_answer:\n",
    "    print(\"You got it!\")\n",
    "else:\n",
    "    print(f\"Nah!,Here you go:{correct_answer}\")"
   ]
  },
  {
   "cell_type": "markdown",
   "id": "db2787fc",
   "metadata": {},
   "source": [
    "# Exercise 3:"
   ]
  },
  {
   "cell_type": "markdown",
   "id": "8db57e49",
   "metadata": {},
   "source": [
    "Squares of Even/Odd Numbers:"
   ]
  },
  {
   "cell_type": "code",
   "execution_count": 2,
   "id": "f57090f8",
   "metadata": {},
   "outputs": [
    {
     "name": "stdout",
     "output_type": "stream",
     "text": [
      "The Square of 200 is 40000\n"
     ]
    }
   ],
   "source": [
    "for num in range(100,201):\n",
    "    if num % 2 ==0:\n",
    "        sqr = num ** 2\n",
    "print(f\"The Square of {num} is {sqr}\")"
   ]
  },
  {
   "cell_type": "markdown",
   "id": "c99ba4b9",
   "metadata": {},
   "source": [
    "# Exercise 4:"
   ]
  },
  {
   "cell_type": "markdown",
   "id": "a62d00be",
   "metadata": {},
   "source": [
    "Word counter:"
   ]
  },
  {
   "cell_type": "code",
   "execution_count": 6,
   "id": "07958110",
   "metadata": {},
   "outputs": [
    {
     "name": "stdout",
     "output_type": "stream",
     "text": [
      "The number of words in the given text is:6\n"
     ]
    }
   ],
   "source": [
    "def count_words(input_text):\n",
    "    words = input_text.split()\n",
    "    word_count = len(words)\n",
    "    return word_count\n",
    "input_text = \"Darshith Raj is a Data Scientist!\"\n",
    "count = count_words(input_text)\n",
    "print(f\"The number of words in the given text is:{count}\")"
   ]
  },
  {
   "cell_type": "markdown",
   "id": "7ad19eee",
   "metadata": {},
   "source": [
    "# Exercise 5:"
   ]
  },
  {
   "cell_type": "markdown",
   "id": "68bc9365",
   "metadata": {},
   "source": [
    "Check for palindrome:"
   ]
  },
  {
   "cell_type": "code",
   "execution_count": 13,
   "id": "3628e47c",
   "metadata": {},
   "outputs": [
    {
     "name": "stdout",
     "output_type": "stream",
     "text": [
      "Is the input string a palindrome?True\n"
     ]
    }
   ],
   "source": [
    "def is_palindrome(input_string):\n",
    "    string = \" \".join(filter(str.isalnum,input_string.lower()))\n",
    "    if string == string[::-1]:\n",
    "        return True\n",
    "    else:\n",
    "        return False\n",
    "input_string = \"LEVEL\"\n",
    "result = is_palindrome(input_string)\n",
    "print(f\"Is the input string a palindrome?{result}\")"
   ]
  },
  {
   "cell_type": "code",
   "execution_count": 12,
   "id": "66e28a38",
   "metadata": {},
   "outputs": [
    {
     "name": "stdout",
     "output_type": "stream",
     "text": [
      "Is the input string a palindrome?False\n"
     ]
    }
   ],
   "source": [
    "def is_palindrome(input_string):\n",
    "    string = \" \".join(filter(str.isalnum,input_string.lower()))\n",
    "    if string == string[::-1]:\n",
    "        return True\n",
    "    else:\n",
    "        return False\n",
    "input_string = \"raj\"\n",
    "result = is_palindrome(input_string)\n",
    "print(f\"Is the input string a palindrome?{result}\")"
   ]
  },
  {
   "cell_type": "code",
   "execution_count": null,
   "id": "7cfd141c",
   "metadata": {},
   "outputs": [],
   "source": []
  }
 ],
 "metadata": {
  "kernelspec": {
   "display_name": "Python 3 (ipykernel)",
   "language": "python",
   "name": "python3"
  },
  "language_info": {
   "codemirror_mode": {
    "name": "ipython",
    "version": 3
   },
   "file_extension": ".py",
   "mimetype": "text/x-python",
   "name": "python",
   "nbconvert_exporter": "python",
   "pygments_lexer": "ipython3",
   "version": "3.11.7"
  }
 },
 "nbformat": 4,
 "nbformat_minor": 5
}
