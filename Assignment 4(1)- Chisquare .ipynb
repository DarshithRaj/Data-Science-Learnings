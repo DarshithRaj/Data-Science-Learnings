{
 "cells": [
  {
   "cell_type": "markdown",
   "id": "80597156",
   "metadata": {},
   "source": [
    "# 1.State the Hypothesis:"
   ]
  },
  {
   "cell_type": "raw",
   "id": "f3732167",
   "metadata": {},
   "source": [
    "H0: Variable are independent\n",
    "H1: Variable are dependent"
   ]
  },
  {
   "cell_type": "markdown",
   "id": "e58cc7db",
   "metadata": {},
   "source": [
    "Null Hypothesis(H0):There is no significant association between the type of smart home device purchased (Smart Thermostats vs. Smart Lights) and the customer satisfaction level.\n",
    "\n",
    "Alternative Hypothesis (H1): There is a significant association between the type of smart home device purchased and the customer satisfaction level."
   ]
  },
  {
   "cell_type": "markdown",
   "id": "a2a0e60c",
   "metadata": {},
   "source": [
    "# 2. Compute the Chi-Square statistic:"
   ]
  },
  {
   "cell_type": "raw",
   "id": "cbaf68d8",
   "metadata": {},
   "source": [
    "Chi-square calculated=sum[(O-E)^2/E] where,\n",
    "O=Observed Frequency\n",
    "E=Expected Frequency"
   ]
  },
  {
   "cell_type": "markdown",
   "id": "77f2d8bc",
   "metadata": {},
   "source": [
    "# 3.Determine the Critical Value:"
   ]
  },
  {
   "cell_type": "raw",
   "id": "1aa0f881",
   "metadata": {},
   "source": [
    "The critical value can be determined using the Chi-Square distribution table. The degrees of freedom (df) for this test can be calculated as:\n",
    "df = (r - 1)(c - 1)\n",
    "where,\n",
    "r=no. of rows(satisfaction levels)\n",
    "c=no. of columns(device types)"
   ]
  },
  {
   "cell_type": "code",
   "execution_count": 1,
   "id": "94ecd0ec",
   "metadata": {},
   "outputs": [],
   "source": [
    "#df = (5-1)(2-1) = 4*1; df = 4"
   ]
  },
  {
   "cell_type": "code",
   "execution_count": 2,
   "id": "eedac083",
   "metadata": {},
   "outputs": [],
   "source": [
    "#for chi-square,significance level,alpha = 0.05(5%)\n",
    "#degrees of freedom(df) = 4"
   ]
  },
  {
   "cell_type": "code",
   "execution_count": 7,
   "id": "c57fa6b6",
   "metadata": {},
   "outputs": [
    {
     "data": {
      "text/plain": [
       "(5.638227513227513, 9.487729036781154)"
      ]
     },
     "execution_count": 7,
     "metadata": {},
     "output_type": "execute_result"
    }
   ],
   "source": [
    "import numpy as np\n",
    "import scipy.stats as stats\n",
    "observed = np.array([[50,70],#observed frequencies\n",
    "                    [80,100],\n",
    "                    [60,90],\n",
    "                    [30,50],\n",
    "                    [20,50]])\n",
    "total = observed.sum() #expected frequencies\n",
    "rows_sums = observed.sum(axis = 1)\n",
    "columns_sums = observed.sum(axis = 0)\n",
    "expected = np.outer(rows_sums,columns_sums) / total\n",
    "chi_square_statistic = ((observed - expected) ** 2/expected).sum()#Chi-square statistic\n",
    "alpha = 0.05 #critical value\n",
    "df = (observed.shape[0] - 1) * (observed.shape[1] -1)\n",
    "critical_value = stats.chi2.ppf(1 - alpha,df)\n",
    "chi_square_statistic,critical_value\n"
   ]
  },
  {
   "cell_type": "raw",
   "id": "59366147",
   "metadata": {},
   "source": [
    "Here,If Chi-Sqaure Statistic is greater than the Critical value, we reject the Null hypothesis, indicating a significant association between device type and customer satisfaction. If it is less, we fail to reject the Null hypothesis. \n",
    "So,here Null Hypothesis is accepeted\n",
    "i.e,There is no significant association between the type of smart home device purchased (Smart Thermostats vs Smart Lights) and the customer satisfaction level. "
   ]
  },
  {
   "cell_type": "code",
   "execution_count": null,
   "id": "b26bfd74",
   "metadata": {},
   "outputs": [],
   "source": []
  }
 ],
 "metadata": {
  "kernelspec": {
   "display_name": "Python 3 (ipykernel)",
   "language": "python",
   "name": "python3"
  },
  "language_info": {
   "codemirror_mode": {
    "name": "ipython",
    "version": 3
   },
   "file_extension": ".py",
   "mimetype": "text/x-python",
   "name": "python",
   "nbconvert_exporter": "python",
   "pygments_lexer": "ipython3",
   "version": "3.11.7"
  }
 },
 "nbformat": 4,
 "nbformat_minor": 5
}
