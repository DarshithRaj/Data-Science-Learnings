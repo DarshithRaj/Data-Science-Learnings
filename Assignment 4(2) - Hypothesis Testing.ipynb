{
 "cells": [
  {
   "cell_type": "markdown",
   "id": "3bc3903b",
   "metadata": {},
   "source": [
    "# 1. Hypothesis Testing:"
   ]
  },
  {
   "cell_type": "raw",
   "id": "c9c63e3f",
   "metadata": {},
   "source": [
    "Hypothesis Statement:\n",
    "H0:Null Hypothesis\n",
    "H1:Alternate Hypothesis"
   ]
  },
  {
   "cell_type": "raw",
   "id": "4f7ac05d",
   "metadata": {},
   "source": [
    "Null Hypothesis (H0): The mean weekly operating cost is equal to the theoretical cost model, i.e.,(mu = 3050) where W =(1000 + 5*600).\n",
    "\n",
    "Alternative Hypothesis (H1): The mean weekly operating cost is greater than the theoretical cost model, i.e.,(mu > 3050)."
   ]
  },
  {
   "cell_type": "markdown",
   "id": "7ebb05e4",
   "metadata": {},
   "source": [
    "# 2.Calculate Test Statistic:"
   ]
  },
  {
   "cell_type": "raw",
   "id": "2315ff91",
   "metadata": {},
   "source": [
    "t=(X'-mu)/(sigma/sqrt(n))"
   ]
  },
  {
   "cell_type": "code",
   "execution_count": 2,
   "id": "3f80c997",
   "metadata": {},
   "outputs": [
    {
     "data": {
      "text/plain": [
       "(-38.0,\n",
       " 1.6448536269514722,\n",
       " 'H0 rejected!',\n",
       " \"There is no enough evidence to support the restaurant owner's claim\")"
      ]
     },
     "execution_count": 2,
     "metadata": {},
     "output_type": "execute_result"
    }
   ],
   "source": [
    "import numpy as np\n",
    "from scipy import stats\n",
    "sample_mean = 3050 #sample mean weekly cost\n",
    "theoretical_mean = 1000 + 5 * 600 #theoretical mean weekly cost\n",
    "sigma = 5 * 25 #standard deviation\n",
    "n = 25 #sample size\n",
    "\n",
    "t_statistic = (sample_mean - theoretical_mean) / (sigma / np.sqrt(n)) #test statistic\n",
    " \n",
    "alpha = 0.05\n",
    "critical_value = stats.norm.ppf(1-alpha)#critical value for one-tailed test at alpha = 0.05\n",
    "\n",
    "decision = \"H0 rejected!\" if t_statistic < critical_value else \"Failed to reject H0\" #decision\n",
    "conclusion = \"There is strong evidence to support the restaurant owner's claim\" if decision == \"Reject H0\" else \"There is no enough evidence to support the restaurant owner's claim\" #conclusion\n",
    "\n",
    "t_statistic , critical_value , decision , conclusion"
   ]
  },
  {
   "cell_type": "raw",
   "id": "335b068d",
   "metadata": {},
   "source": [
    "Conclusion :\n",
    "Test Statistic:-38.0,\n",
    "Critical Value:1.6448536269514722\n",
    "Therefore , if the Test Statistic is greater than critical value, we reject the null hypothesis."
   ]
  },
  {
   "cell_type": "code",
   "execution_count": null,
   "id": "eb960339",
   "metadata": {},
   "outputs": [],
   "source": []
  }
 ],
 "metadata": {
  "kernelspec": {
   "display_name": "Python 3 (ipykernel)",
   "language": "python",
   "name": "python3"
  },
  "language_info": {
   "codemirror_mode": {
    "name": "ipython",
    "version": 3
   },
   "file_extension": ".py",
   "mimetype": "text/x-python",
   "name": "python",
   "nbconvert_exporter": "python",
   "pygments_lexer": "ipython3",
   "version": "3.11.7"
  }
 },
 "nbformat": 4,
 "nbformat_minor": 5
}
